{
  "nbformat": 4,
  "nbformat_minor": 0,
  "metadata": {
    "colab": {
      "name": "tamilnadu_agriculture",
      "version": "0.3.2",
      "provenance": [],
      "collapsed_sections": [],
      "toc_visible": true
    },
    "kernelspec": {
      "name": "python3",
      "display_name": "Python 3"
    },
    "accelerator": "GPU"
  },
  "cells": [
    {
      "cell_type": "code",
      "metadata": {
        "id": "t6ZcT98_esvM",
        "colab_type": "code",
        "outputId": "dc422763-2aaf-4fa1-c793-0ff59c6acc56",
        "colab": {
          "base_uri": "https://localhost:8080/",
          "height": 35
        }
      },
      "source": [
        "!ls -lha kaggle.json"
      ],
      "execution_count": 0,
      "outputs": [
        {
          "output_type": "stream",
          "text": [
            "-rw-r--r-- 1 root root 63 Jul 14 17:27 kaggle.json\n"
          ],
          "name": "stdout"
        }
      ]
    },
    {
      "cell_type": "code",
      "metadata": {
        "id": "Qllhe4Ayesl1",
        "colab_type": "code",
        "colab": {}
      },
      "source": [
        "!pip install -q kaggle"
      ],
      "execution_count": 0,
      "outputs": []
    },
    {
      "cell_type": "code",
      "metadata": {
        "id": "3wWD7h86escu",
        "colab_type": "code",
        "colab": {}
      },
      "source": [
        "\n",
        "!mkdir -p ~/.kaggle\n",
        "!cp kaggle.json ~/.kaggle/"
      ],
      "execution_count": 0,
      "outputs": []
    },
    {
      "cell_type": "code",
      "metadata": {
        "id": "Nu_KsGGBesSP",
        "colab_type": "code",
        "outputId": "ab4f36a8-ea68-4af3-88fd-208a2883109a",
        "colab": {
          "base_uri": "https://localhost:8080/",
          "height": 72
        }
      },
      "source": [
        "!chmod 600 ~/.kaggle/kaggle.json\n",
        "!kaggle datasets download -d vijayaghanapathy/tamil-nadu-agriculture-data-set\n"
      ],
      "execution_count": 0,
      "outputs": [
        {
          "output_type": "stream",
          "text": [
            "Downloading tamil-nadu-agriculture-data-set.zip to /content\n",
            "\r  0% 0.00/113k [00:00<?, ?B/s]\n",
            "\r100% 113k/113k [00:00<00:00, 34.1MB/s]\n"
          ],
          "name": "stdout"
        }
      ]
    },
    {
      "cell_type": "code",
      "metadata": {
        "id": "qvtJLhEufeAX",
        "colab_type": "code",
        "outputId": "c9857a70-33e6-48c3-ea28-d15a05ada6c4",
        "colab": {
          "base_uri": "https://localhost:8080/",
          "height": 35
        }
      },
      "source": [
        "from zipfile import ZipFile\n",
        "file_name = \"../content/tamil-nadu-agriculture-data-set.zip\"\n",
        "with ZipFile(file_name,'r') as zip:\n",
        "  zip.extractall()\n",
        "  print('Done')  "
      ],
      "execution_count": 0,
      "outputs": [
        {
          "output_type": "stream",
          "text": [
            "Done\n"
          ],
          "name": "stdout"
        }
      ]
    },
    {
      "cell_type": "code",
      "metadata": {
        "id": "dQUZojeSpiNt",
        "colab_type": "code",
        "colab": {}
      },
      "source": [
        "import pandas as pd\n",
        "import numpy as np\n",
        "import seaborn as sns\n",
        "import sklearn\n",
        "from sklearn import preprocessing\n",
        "from sklearn.preprocessing import OneHotEncoder\n",
        "from sklearn.model_selection import train_test_split\n",
        "from sklearn.ensemble import RandomForestRegressor\n",
        "from sklearn.ensemble import RandomForestClassifier"
      ],
      "execution_count": 0,
      "outputs": []
    },
    {
      "cell_type": "code",
      "metadata": {
        "id": "yEITGu7Iq7MG",
        "colab_type": "code",
        "colab": {}
      },
      "source": [
        "data = pd.read_csv('tn.csv')\n",
        "data1 = pd.read_csv('tn.csv')"
      ],
      "execution_count": 0,
      "outputs": []
    },
    {
      "cell_type": "code",
      "metadata": {
        "id": "tQ2BVvdZgUEG",
        "colab_type": "code",
        "outputId": "c0783147-cc2a-46a7-a768-78f86d811d5e",
        "colab": {
          "base_uri": "https://localhost:8080/",
          "height": 218
        }
      },
      "source": [
        "data.head()"
      ],
      "execution_count": 0,
      "outputs": [
        {
          "output_type": "execute_result",
          "data": {
            "text/html": [
              "<div>\n",
              "<style scoped>\n",
              "    .dataframe tbody tr th:only-of-type {\n",
              "        vertical-align: middle;\n",
              "    }\n",
              "\n",
              "    .dataframe tbody tr th {\n",
              "        vertical-align: top;\n",
              "    }\n",
              "\n",
              "    .dataframe thead th {\n",
              "        text-align: right;\n",
              "    }\n",
              "</style>\n",
              "<table border=\"1\" class=\"dataframe\">\n",
              "  <thead>\n",
              "    <tr style=\"text-align: right;\">\n",
              "      <th></th>\n",
              "      <th>District_Name</th>\n",
              "      <th>Crop_Year</th>\n",
              "      <th>Crop</th>\n",
              "      <th>Area</th>\n",
              "      <th>Production</th>\n",
              "      <th>season_lable_coding</th>\n",
              "      <th>Kharif</th>\n",
              "      <th>Whole_Year</th>\n",
              "      <th>Rabi</th>\n",
              "    </tr>\n",
              "  </thead>\n",
              "  <tbody>\n",
              "    <tr>\n",
              "      <th>0</th>\n",
              "      <td>0.000203</td>\n",
              "      <td>0.081394</td>\n",
              "      <td>0.000081</td>\n",
              "      <td>0.996099</td>\n",
              "      <td>0.034090</td>\n",
              "      <td>0.000000</td>\n",
              "      <td>0.000041</td>\n",
              "      <td>0.0</td>\n",
              "      <td>0.000000</td>\n",
              "    </tr>\n",
              "    <tr>\n",
              "      <th>1</th>\n",
              "      <td>0.002286</td>\n",
              "      <td>0.918144</td>\n",
              "      <td>0.001372</td>\n",
              "      <td>0.095564</td>\n",
              "      <td>0.384541</td>\n",
              "      <td>0.000914</td>\n",
              "      <td>0.000000</td>\n",
              "      <td>0.0</td>\n",
              "      <td>0.000457</td>\n",
              "    </tr>\n",
              "    <tr>\n",
              "      <th>2</th>\n",
              "      <td>0.002223</td>\n",
              "      <td>0.892788</td>\n",
              "      <td>0.001334</td>\n",
              "      <td>0.251208</td>\n",
              "      <td>0.373922</td>\n",
              "      <td>0.000889</td>\n",
              "      <td>0.000000</td>\n",
              "      <td>0.0</td>\n",
              "      <td>0.000445</td>\n",
              "    </tr>\n",
              "    <tr>\n",
              "      <th>3</th>\n",
              "      <td>0.002288</td>\n",
              "      <td>0.918872</td>\n",
              "      <td>0.001373</td>\n",
              "      <td>0.086945</td>\n",
              "      <td>0.384846</td>\n",
              "      <td>0.000915</td>\n",
              "      <td>0.000000</td>\n",
              "      <td>0.0</td>\n",
              "      <td>0.000458</td>\n",
              "    </tr>\n",
              "    <tr>\n",
              "      <th>4</th>\n",
              "      <td>0.000160</td>\n",
              "      <td>0.064382</td>\n",
              "      <td>0.000128</td>\n",
              "      <td>0.997561</td>\n",
              "      <td>0.026965</td>\n",
              "      <td>0.000064</td>\n",
              "      <td>0.000000</td>\n",
              "      <td>0.0</td>\n",
              "      <td>0.000032</td>\n",
              "    </tr>\n",
              "  </tbody>\n",
              "</table>\n",
              "</div>"
            ],
            "text/plain": [
              "   District_Name  Crop_Year      Crop  ...    Kharif  Whole_Year      Rabi\n",
              "0       0.000203   0.081394  0.000081  ...  0.000041         0.0  0.000000\n",
              "1       0.002286   0.918144  0.001372  ...  0.000000         0.0  0.000457\n",
              "2       0.002223   0.892788  0.001334  ...  0.000000         0.0  0.000445\n",
              "3       0.002288   0.918872  0.001373  ...  0.000000         0.0  0.000458\n",
              "4       0.000160   0.064382  0.000128  ...  0.000000         0.0  0.000032\n",
              "\n",
              "[5 rows x 9 columns]"
            ]
          },
          "metadata": {
            "tags": []
          },
          "execution_count": 31
        }
      ]
    },
    {
      "cell_type": "code",
      "metadata": {
        "id": "FFobdK8frG_h",
        "colab_type": "code",
        "outputId": "cdc39c1a-dbc1-421f-aaa7-a1fc4312c0b9",
        "colab": {
          "base_uri": "https://localhost:8080/",
          "height": 272
        }
      },
      "source": [
        "data.info()"
      ],
      "execution_count": 0,
      "outputs": [
        {
          "output_type": "stream",
          "text": [
            "<class 'pandas.core.frame.DataFrame'>\n",
            "RangeIndex: 13547 entries, 0 to 13546\n",
            "Data columns (total 9 columns):\n",
            "District_Name          13547 non-null float64\n",
            "Crop_Year              13547 non-null float64\n",
            "Crop                   13547 non-null float64\n",
            "Area                   13547 non-null float64\n",
            "Production             13547 non-null float64\n",
            "season_lable_coding    13547 non-null float64\n",
            "Kharif                 13547 non-null float64\n",
            "Whole_Year             13547 non-null float64\n",
            "Rabi                   13547 non-null float64\n",
            "dtypes: float64(9)\n",
            "memory usage: 952.6 KB\n"
          ],
          "name": "stdout"
        }
      ]
    },
    {
      "cell_type": "code",
      "metadata": {
        "id": "h2Sv9GzRrJk-",
        "colab_type": "code",
        "colab": {}
      },
      "source": [
        "#data['State_Name'].unique()\n",
        "data.drop('State_Name',axis=1,inplace=True)\n",
        "data.drop('Season',axis=1,inplace=True)\n",
        "\n",
        "\n",
        "\n",
        "\n",
        "\n",
        "\n",
        "\n"
      ],
      "execution_count": 0,
      "outputs": []
    },
    {
      "cell_type": "code",
      "metadata": {
        "id": "sHPv-wbp3_Cg",
        "colab_type": "code",
        "outputId": "e311bc43-0278-4582-a2d6-e988594b76b1",
        "colab": {
          "base_uri": "https://localhost:8080/",
          "height": 244
        }
      },
      "source": [
        "k = 0\n",
        "for col in data.columns:\n",
        "  if data[col].dtypes == \"object\":\n",
        "    print(col)\n",
        "    k = k+1\n",
        "  else:\n",
        "    continue\n",
        "\n",
        "if k==0: \n",
        "  print(\"no string found\")    "
      ],
      "execution_count": 0,
      "outputs": [
        {
          "output_type": "error",
          "ename": "NameError",
          "evalue": "ignored",
          "traceback": [
            "\u001b[0;31m---------------------------------------------------------------------------\u001b[0m",
            "\u001b[0;31mNameError\u001b[0m                                 Traceback (most recent call last)",
            "\u001b[0;32m<ipython-input-1-abf31bd7781f>\u001b[0m in \u001b[0;36m<module>\u001b[0;34m()\u001b[0m\n\u001b[1;32m      1\u001b[0m \u001b[0mk\u001b[0m \u001b[0;34m=\u001b[0m \u001b[0;36m0\u001b[0m\u001b[0;34m\u001b[0m\u001b[0;34m\u001b[0m\u001b[0m\n\u001b[0;32m----> 2\u001b[0;31m \u001b[0;32mfor\u001b[0m \u001b[0mcol\u001b[0m \u001b[0;32min\u001b[0m \u001b[0mdata\u001b[0m\u001b[0;34m.\u001b[0m\u001b[0mcolumns\u001b[0m\u001b[0;34m:\u001b[0m\u001b[0;34m\u001b[0m\u001b[0;34m\u001b[0m\u001b[0m\n\u001b[0m\u001b[1;32m      3\u001b[0m   \u001b[0;32mif\u001b[0m \u001b[0mdata\u001b[0m\u001b[0;34m[\u001b[0m\u001b[0mcol\u001b[0m\u001b[0;34m]\u001b[0m\u001b[0;34m.\u001b[0m\u001b[0mdtypes\u001b[0m \u001b[0;34m==\u001b[0m \u001b[0;34m\"object\"\u001b[0m\u001b[0;34m:\u001b[0m\u001b[0;34m\u001b[0m\u001b[0;34m\u001b[0m\u001b[0m\n\u001b[1;32m      4\u001b[0m     \u001b[0mprint\u001b[0m\u001b[0;34m(\u001b[0m\u001b[0mcol\u001b[0m\u001b[0;34m)\u001b[0m\u001b[0;34m\u001b[0m\u001b[0;34m\u001b[0m\u001b[0m\n\u001b[1;32m      5\u001b[0m     \u001b[0mk\u001b[0m \u001b[0;34m=\u001b[0m \u001b[0mk\u001b[0m\u001b[0;34m+\u001b[0m\u001b[0;36m1\u001b[0m\u001b[0;34m\u001b[0m\u001b[0;34m\u001b[0m\u001b[0m\n",
            "\u001b[0;31mNameError\u001b[0m: name 'data' is not defined"
          ]
        }
      ]
    },
    {
      "cell_type": "code",
      "metadata": {
        "id": "yKv4Sxto3g3O",
        "colab_type": "code",
        "outputId": "596bd222-57cd-4ecb-9e2d-ec229c24618b",
        "colab": {
          "base_uri": "https://localhost:8080/",
          "height": 35
        }
      },
      "source": [
        "data['District_Name'].unique()"
      ],
      "execution_count": 0,
      "outputs": [
        {
          "output_type": "execute_result",
          "data": {
            "text/plain": [
              "array([5, 2, 3, 1, 4], dtype=object)"
            ]
          },
          "metadata": {
            "tags": []
          },
          "execution_count": 59
        }
      ]
    },
    {
      "cell_type": "code",
      "metadata": {
        "id": "Ycqd9Cpu7WN0",
        "colab_type": "code",
        "outputId": "d860639f-6207-4f52-ad91-ddae6f8ae133",
        "colab": {
          "base_uri": "https://localhost:8080/",
          "height": 54
        }
      },
      "source": [
        "data['Production'].mode()"
      ],
      "execution_count": 0,
      "outputs": [
        {
          "output_type": "execute_result",
          "data": {
            "text/plain": [
              "0    0.0\n",
              "dtype: float64"
            ]
          },
          "metadata": {
            "tags": []
          },
          "execution_count": 19
        }
      ]
    },
    {
      "cell_type": "code",
      "metadata": {
        "id": "SeipoF--sN_U",
        "colab_type": "code",
        "outputId": "987e521b-7118-44d0-a980-47bd63a9e6c5",
        "colab": {
          "base_uri": "https://localhost:8080/",
          "height": 35
        }
      },
      "source": [
        "null_counts = data.isnull().sum()\n",
        "null_counts[null_counts > 0].sort_values(ascending=False)"
      ],
      "execution_count": 0,
      "outputs": [
        {
          "output_type": "execute_result",
          "data": {
            "text/plain": [
              "Series([], dtype: int64)"
            ]
          },
          "metadata": {
            "tags": []
          },
          "execution_count": 19
        }
      ]
    },
    {
      "cell_type": "code",
      "metadata": {
        "id": "GzQxv24D7ymZ",
        "colab_type": "code",
        "colab": {}
      },
      "source": [
        "null = data['Production'].median()\n",
        "data['Production'].fillna(null,inplace=True)"
      ],
      "execution_count": 0,
      "outputs": []
    },
    {
      "cell_type": "code",
      "metadata": {
        "id": "BdQ33aXOkzoV",
        "colab_type": "code",
        "outputId": "0a18f1ae-9a6c-4fe8-f8e2-3cbb2c22784e",
        "colab": {
          "base_uri": "https://localhost:8080/",
          "height": 599
        }
      },
      "source": [
        "data['District_Name'].value_counts()"
      ],
      "execution_count": 0,
      "outputs": [
        {
          "output_type": "execute_result",
          "data": {
            "text/plain": [
              "DINDIGUL           600\n",
              "ERODE              571\n",
              "SALEM              571\n",
              "DHARMAPURI         543\n",
              "COIMBATORE         542\n",
              "TIRUNELVELI        533\n",
              "NAMAKKAL           529\n",
              "VELLORE            521\n",
              "THENI              520\n",
              "TIRUCHIRAPPALLI    507\n",
              "TIRUVANNAMALAI     496\n",
              "MADURAI            495\n",
              "VILLUPURAM         494\n",
              "VIRUDHUNAGAR       493\n",
              "PERAMBALUR         480\n",
              "TUTICORIN          476\n",
              "CUDDALORE          464\n",
              "KARUR              462\n",
              "PUDUKKOTTAI        434\n",
              "SIVAGANGA          422\n",
              "THANJAVUR          417\n",
              "KANCHIPURAM        405\n",
              "THIRUVALLUR        396\n",
              "RAMANATHAPURAM     377\n",
              "KRISHNAGIRI        341\n",
              "NAGAPATTINAM       321\n",
              "THE NILGIRIS       310\n",
              "THIRUVARUR         300\n",
              "KANNIYAKUMARI      254\n",
              "TIRUPPUR           143\n",
              "ARIYALUR           130\n",
              "Name: District_Name, dtype: int64"
            ]
          },
          "metadata": {
            "tags": []
          },
          "execution_count": 24
        }
      ]
    },
    {
      "cell_type": "code",
      "metadata": {
        "id": "ohfLUzPgtNlH",
        "colab_type": "code",
        "colab": {}
      },
      "source": [
        "a = data['District_Name'].value_counts()\n",
        "a = pd.DataFrame(a)\n",
        "a.columns = ['value']\n",
        "#a['value']['ARIYALUR']\n",
        "#type(data['District_Name'][0])\n",
        "\n"
      ],
      "execution_count": 0,
      "outputs": []
    },
    {
      "cell_type": "code",
      "metadata": {
        "id": "Jhr_yiIN87DA",
        "colab_type": "code",
        "outputId": "c65938bb-4c08-452c-a9d5-1db83858d3ae",
        "colab": {
          "base_uri": "https://localhost:8080/",
          "height": 492
        }
      },
      "source": [
        "for i in range(len(data)):\n",
        "  if a['value'][data['District_Name'][i]] == 600:\n",
        "    data['District_Name'][i] = 1\n",
        "  elif a['value'][data['District_Name'][i]]<600 and a['value'][data['District_Name'][i]]>500:\n",
        "    data['District_Name'][i] = 2\n",
        "  elif a['value'][data['District_Name'][i]]<=500 and a['value'][data['District_Name'][i]]>400:\n",
        "    data['District_Name'][i] = 3\n",
        "  elif a['value'][data['District_Name'][i]]<=400 and a['value'][data['District_Name'][i]]>300:\n",
        "    data['District_Name'][i] = 4\n",
        "  else:\n",
        "    data['District_Name'][i] = 5\n",
        " "
      ],
      "execution_count": 0,
      "outputs": [
        {
          "output_type": "stream",
          "text": [
            "/usr/local/lib/python3.6/dist-packages/ipykernel_launcher.py:11: SettingWithCopyWarning: \n",
            "A value is trying to be set on a copy of a slice from a DataFrame\n",
            "\n",
            "See the caveats in the documentation: http://pandas.pydata.org/pandas-docs/stable/indexing.html#indexing-view-versus-copy\n",
            "  # This is added back by InteractiveShellApp.init_path()\n",
            "/usr/local/lib/python3.6/dist-packages/ipykernel_launcher.py:5: SettingWithCopyWarning: \n",
            "A value is trying to be set on a copy of a slice from a DataFrame\n",
            "\n",
            "See the caveats in the documentation: http://pandas.pydata.org/pandas-docs/stable/indexing.html#indexing-view-versus-copy\n",
            "  \"\"\"\n",
            "/usr/local/lib/python3.6/dist-packages/ipykernel_launcher.py:7: SettingWithCopyWarning: \n",
            "A value is trying to be set on a copy of a slice from a DataFrame\n",
            "\n",
            "See the caveats in the documentation: http://pandas.pydata.org/pandas-docs/stable/indexing.html#indexing-view-versus-copy\n",
            "  import sys\n",
            "/usr/local/lib/python3.6/dist-packages/ipykernel_launcher.py:3: SettingWithCopyWarning: \n",
            "A value is trying to be set on a copy of a slice from a DataFrame\n",
            "\n",
            "See the caveats in the documentation: http://pandas.pydata.org/pandas-docs/stable/indexing.html#indexing-view-versus-copy\n",
            "  This is separate from the ipykernel package so we can avoid doing imports until\n",
            "/usr/local/lib/python3.6/dist-packages/ipykernel_launcher.py:9: SettingWithCopyWarning: \n",
            "A value is trying to be set on a copy of a slice from a DataFrame\n",
            "\n",
            "See the caveats in the documentation: http://pandas.pydata.org/pandas-docs/stable/indexing.html#indexing-view-versus-copy\n",
            "  if __name__ == '__main__':\n"
          ],
          "name": "stderr"
        }
      ]
    },
    {
      "cell_type": "markdown",
      "metadata": {
        "id": "-XTf9q2NhCY4",
        "colab_type": "text"
      },
      "source": [
        "# LABLE ENCODING"
      ]
    },
    {
      "cell_type": "code",
      "metadata": {
        "id": "7yL5h6dZHy9X",
        "colab_type": "code",
        "colab": {}
      },
      "source": [
        "data['season_lable_coding']=preprocessing.LabelEncoder().fit_transform(data['Season'].values)\n"
      ],
      "execution_count": 0,
      "outputs": []
    },
    {
      "cell_type": "markdown",
      "metadata": {
        "id": "P4kvwMc9g-0U",
        "colab_type": "text"
      },
      "source": [
        "# ONE HOT ENCODING"
      ]
    },
    {
      "cell_type": "code",
      "metadata": {
        "id": "6rJJm3rw6_7V",
        "colab_type": "code",
        "outputId": "87aef8dd-e220-4311-da6b-c408514a337c",
        "colab": {
          "base_uri": "https://localhost:8080/",
          "height": 110
        }
      },
      "source": [
        "x=OneHotEncoder(sparse=False).fit_transform(np.asarray(data[['season_lable_coding']]))\n",
        "data['Kharif']=x[:,0]\n",
        "data['Whole_Year']=x[:,1]\n",
        "data['Rabi']=x[:,2]"
      ],
      "execution_count": 0,
      "outputs": [
        {
          "output_type": "stream",
          "text": [
            "/usr/local/lib/python3.6/dist-packages/sklearn/preprocessing/_encoders.py:415: FutureWarning: The handling of integer data will change in version 0.22. Currently, the categories are determined based on the range [0, max(values)], while in the future they will be determined based on the unique values.\n",
            "If you want the future behaviour and silence this warning, you can specify \"categories='auto'\".\n",
            "In case you used a LabelEncoder before this OneHotEncoder to convert the categories to integers, then you can now use the OneHotEncoder directly.\n",
            "  warnings.warn(msg, FutureWarning)\n"
          ],
          "name": "stderr"
        }
      ]
    },
    {
      "cell_type": "markdown",
      "metadata": {
        "id": "7Cb9WWOrDONd",
        "colab_type": "text"
      },
      "source": [
        "# NORMALISE"
      ]
    },
    {
      "cell_type": "code",
      "metadata": {
        "id": "7xxmGGQhDNJg",
        "colab_type": "code",
        "colab": {}
      },
      "source": [
        "from sklearn import preprocessing\n",
        "norm=preprocessing.Normalizer()\n",
        "#X_train=norm.fit_transform(X_train)\n",
        "#Y_train=scaler.fit_transform(Y_train)\n",
        "#X_test=norm.fit_transform(X_test)\n",
        "data=norm.fit_transform(data)\n",
        "data=pd.DataFrame(data,columns=['District_Name','Crop_Year','Crop','Area','Production','season_lable_coding','Kharif','Whole_Year','Rabi'])\n"
      ],
      "execution_count": 0,
      "outputs": []
    },
    {
      "cell_type": "markdown",
      "metadata": {
        "id": "cbFkrjl1iAs5",
        "colab_type": "text"
      },
      "source": [
        "# VISUALISATION"
      ]
    },
    {
      "cell_type": "code",
      "metadata": {
        "id": "LTfTSujOxz2D",
        "colab_type": "code",
        "outputId": "ebe6e8e2-1188-4d1e-ac74-db90f0ed7443",
        "colab": {
          "base_uri": "https://localhost:8080/",
          "height": 688
        }
      },
      "source": [
        "import matplotlib.pyplot as plt\n",
        "import seaborn as sns\n",
        "plt.figure(figsize=(12,10))\n",
        "Var_Corr = data.corr()\n",
        "sns.heatmap(Var_Corr, xticklabels=Var_Corr.columns, yticklabels=Var_Corr.columns, annot=True)\n",
        "plt.show()"
      ],
      "execution_count": 0,
      "outputs": [
        {
          "output_type": "display_data",
          "data": {
            "image/png": "[encoded data removed]",
            "text/plain": [
              "<Figure size 864x720 with 2 Axes>"
            ]
          },
          "metadata": {
            "tags": []
          }
        }
      ]
    },
    {
      "cell_type": "code",
      "metadata": {
        "id": "ChSVgthIzDZY",
        "colab_type": "code",
        "colab": {}
      },
      "source": [
        "data.drop('Area',axis=1,inplace=True)\n",
        "\n",
        "\n",
        "\n",
        "\n",
        "\n",
        "\n",
        "\n",
        "\n"
      ],
      "execution_count": 0,
      "outputs": []
    },
    {
      "cell_type": "markdown",
      "metadata": {
        "id": "O5qF0DJCjqNb",
        "colab_type": "text"
      },
      "source": [
        "# OUTLIERS"
      ]
    },
    {
      "cell_type": "code",
      "metadata": {
        "id": "5hDkrbTqjdkp",
        "colab_type": "code",
        "outputId": "f22c6994-a64b-4a9a-dac4-84616ce2fb91",
        "colab": {
          "base_uri": "https://localhost:8080/",
          "height": 55
        }
      },
      "source": [
        "from collections import Counter\n",
        "\n",
        "def detect_outliers(df,n,features):\n",
        "    \"\"\"\n",
        "    This function basically takes a dataframe, that contains everything about the features.\n",
        "\tAnd returs list of index of Observations if it possesses more than nn outliers.\n",
        "    \"\"\"\n",
        "    outlier_index = []\n",
        "    \n",
        "    # iterate over features(columns)\n",
        "    for col in features:\n",
        "        # 1st quartile (25%)\n",
        "        Q1 = np.percentile(df[col], 25)\n",
        "        # 3rd quartile (75%)\n",
        "        Q3 = np.percentile(df[col],75)\n",
        "        # Interquartile range (IQR)\n",
        "        IQR = Q3 - Q1\n",
        "        \n",
        "        # outlier step\n",
        "        outlier_step = 1.75 * IQR\n",
        "        \n",
        "        # Determine a list of index of outliers for feature col\n",
        "        outlier_list_col = df[(df[col] < Q1 - outlier_step) | (df[col] > Q3 + outlier_step )].index\n",
        "        \n",
        "        # append the found outlier indices for col to the list of outlier indices \n",
        "        outlier_index.extend(outlier_list_col)\n",
        "        \n",
        "    # select observations containing more than n outliers\n",
        "    outlier_index = Counter(outlier_index)        \n",
        "    more_than_n_outliers = list( k for k, v in outlier_index.items() if v > n )\n",
        "    \n",
        "    return more_than_n_outliers\n",
        "\n",
        "list1 = detect_outliers(data,0,data.columns)\n",
        "print(list1)"
      ],
      "execution_count": 0,
      "outputs": [
        {
          "output_type": "stream",
          "text": [
            "[9, 21, 32, 33, 34, 39, 45, 84, 136, 144, 147, 149, 185, 213, 244, 283, 299, 340, 356, 359, 402, 407, 408, 435, 439, 453, 457, 458, 462, 470, 477, 480, 489, 490, 491, 493, 500, 521, 525, 528, 539, 555, 556, 560, 570, 598, 609, 610, 611, 619, 657, 666, 683, 685, 686, 929, 940, 946, 952, 966, 972, 974, 976, 977, 983, 995, 1006, 1011, 1028, 1029, 1034, 1035, 1131, 1141, 1146, 1147, 1151, 1152, 1154, 1158, 1161, 1166, 1191, 1223, 1224, 1253, 1254, 1459, 1470, 1472, 1476, 1485, 1489, 1497, 1500, 1502, 1507, 1510, 1512, 1517, 1521, 1528, 1533, 1537, 1542, 1547, 1551, 1558, 1562, 1564, 1568, 1571, 1614, 1617, 1678, 1685, 1686, 1698, 1700, 1707, 1712, 1713, 1739, 1771, 1804, 1860, 1864, 1865, 1873, 1875, 1879, 1891, 1919, 1931, 1935, 1936, 1940, 1943, 1945, 1949, 1989, 2024, 2031, 2037, 2046, 2052, 2059, 2061, 2064, 2070, 2080, 2084, 2086, 2093, 2096, 2106, 2115, 2121, 2128, 2131, 2134, 2140, 2141, 2150, 2163, 2168, 2199, 2201, 2207, 2217, 2263, 2270, 2285, 2286, 2291, 2292, 2295, 2302, 2310, 2313, 2338, 2343, 2347, 2371, 2376, 2379, 2403, 2410, 2615, 2626, 2634, 2641, 2648, 2650, 2664, 2668, 2680, 2683, 2685, 2689, 2695, 2701, 2708, 2716, 2718, 2736, 2743, 2750, 2752, 2777, 2797, 2835, 2848, 2860, 2870, 2973, 2987, 3033, 3260, 3303, 3330, 3360, 3366, 3414, 3423, 3429, 3438, 3444, 3460, 3482, 3504, 3519, 3553, 3776, 3784, 3785, 3786, 3794, 3811, 3812, 3820, 3825, 3840, 3849, 3858, 3865, 3867, 3875, 3905, 3916, 3959, 3973, 4098, 4103, 4105, 4110, 4130, 4134, 4141, 4144, 4162, 4166, 4168, 4173, 4176, 4198, 4205, 4246, 4252, 4262, 4306, 4308, 4317, 4325, 4334, 4339, 4525, 4601, 4602, 4608, 4611, 4619, 4625, 4628, 4629, 4635, 4636, 4638, 4657, 4658, 4664, 4665, 4667, 4675, 4682, 4686, 4687, 4693, 4696, 4698, 4704, 4710, 4738, 4749, 4756, 4794, 4813, 4815, 4821, 4826, 5032, 5034, 5047, 5055, 5092, 5121, 5134, 5142, 5152, 5154, 5439, 5447, 5451, 5471, 5477, 5481, 5488, 5501, 5507, 5511, 5531, 5537, 5585, 5663, 5668, 5671, 5672, 5757, 5896, 5924, 5925, 5939, 5941, 5942, 5944, 5947, 5951, 5957, 5966, 5968, 5971, 5974, 5981, 5985, 5996, 6002, 6024, 6029, 6030, 6125, 6150, 6392, 6402, 6415, 6419, 6429, 6435, 6453, 6459, 6476, 6482, 6578, 6579, 6581, 6582, 6627, 6682, 6749, 6772, 6786, 6790, 6792, 6796, 6797, 6808, 6809, 6813, 6832, 6833, 6836, 6838, 6843, 6855, 6859, 6861, 6866, 6941, 6944, 6955, 6961, 6962, 6964, 6965, 6978, 7002, 7003, 7036, 7039, 7068, 7071, 7111, 7170, 7190, 7194, 7235, 7241, 7268, 7285, 7287, 7299, 7300, 7303, 7306, 7308, 7315, 7329, 7331, 7332, 7335, 7337, 7339, 7340, 7347, 7361, 7364, 7371, 7374, 7376, 7385, 7386, 7394, 7395, 7397, 7403, 7443, 7448, 7458, 7503, 7504, 7513, 7530, 7725, 7751, 7768, 7799, 7818, 7840, 7893, 7951, 8217, 8235, 8242, 8262, 8305, 8350, 8361, 8384, 8454, 8502, 8503, 8535, 8552, 8613, 8637, 8638, 8659, 8660, 8675, 8677, 8681, 8683, 8685, 8686, 8696, 8698, 8716, 8717, 8747, 8774, 8885, 8934, 8963, 8977, 8978, 8981, 8990, 9005, 9006, 9009, 9016, 9018, 9033, 9034, 9037, 9045, 9063, 9067, 9118, 9121, 9122, 9129, 9175, 9178, 9195, 9207, 9415, 9422, 9427, 9428, 9435, 9441, 9443, 9448, 9538, 9595, 9599, 9785, 9798, 9819, 9834, 9889, 9895, 9898, 9910, 9934, 9962, 9963, 9992, 10038, 10040, 10043, 10047, 10091, 10093, 10096, 10145, 10174, 10183, 10191, 10193, 10202, 10206, 10210, 10219, 10221, 10232, 10240, 10241, 10249, 10251, 10254, 10261, 10269, 10270, 10278, 10280, 10290, 10322, 10329, 10336, 10378, 10398, 10400, 10401, 10404, 10405, 10407, 10408, 10477, 10506, 10508, 10553, 10558, 10609, 10611, 10616, 10661, 10693, 10713, 10716, 10724, 10744, 10747, 10755, 10758, 10777, 10779, 10786, 10789, 10808, 10809, 10816, 10859, 10935, 10945, 10946, 10948, 10949, 10960, 10962, 11009, 11077, 11080, 11086, 11117, 11144, 11338, 11351, 11356, 11361, 11362, 11363, 11367, 11369, 11380, 11381, 11390, 11392, 11396, 11398, 11410, 11411, 11419, 11420, 11426, 11429, 11438, 11448, 11455, 11456, 11492, 11500, 11503, 11551, 11557, 11569, 11574, 11578, 11591, 11640, 11712, 11717, 11769, 11850, 11856, 11859, 11876, 11882, 11885, 11895, 11903, 11909, 11914, 11930, 11936, 11946, 11948, 11990, 12045, 12050, 12053, 12059, 12062, 12086, 12338, 12349, 12356, 12358, 12364, 12369, 12376, 12380, 12382, 12389, 12397, 12402, 12409, 12412, 12428, 12433, 12440, 12444, 12460, 12498, 12501, 12503, 12554, 12565, 12571, 12573, 12578, 12608, 12785, 12855, 12858, 12860, 12877, 12888, 12894, 12896, 12911, 12916, 12923, 12942, 12947, 12996, 13041, 13048, 13059, 13060, 13070, 13078, 13081, 13155, 13332, 13348, 13349, 13351, 13358, 13369, 13376, 13379, 13386, 13387, 13389, 13398, 13405, 13406, 13408, 13410, 13416, 13418, 13426, 13433, 13434, 13446, 13484, 13489, 13539, 13540, 13542]\n"
          ],
          "name": "stdout"
        }
      ]
    },
    {
      "cell_type": "code",
      "metadata": {
        "id": "Wg1CHqSolnqB",
        "colab_type": "code",
        "colab": {}
      },
      "source": [
        "data.drop(labels=list1,axis=0,inplace=True)\n"
      ],
      "execution_count": 0,
      "outputs": []
    },
    {
      "cell_type": "code",
      "metadata": {
        "id": "vag_7gAzlf6d",
        "colab_type": "code",
        "outputId": "891701bb-3b30-4d6f-85cf-ac43aaf1a3ec",
        "colab": {
          "base_uri": "https://localhost:8080/",
          "height": 365
        }
      },
      "source": [
        "for col in data.columns:\n",
        "        # 1st quartile (25%)\n",
        "  Q1 = np.percentile(data[col], 25)\n",
        "        # 3rd quartile (75%)\n",
        "  Q3 = np.percentile(data[col],75)\n",
        "        # Interquartile range (IQR)\n",
        "  IQR = Q3 - Q1\n",
        "        \n",
        "        # outlier step\n",
        "  outlier_step = 1.75 * IQR\n",
        "  \n",
        "  append_list = []\n",
        "  \n",
        "  for i in list1:\n",
        "    if data[col][i]<Q1-outlier_step or data[col][i]>Q3+outlier_step:\n",
        "      \n",
        "      append_list.append(i)\n",
        "    \n",
        "    else:\n",
        "      continue\n",
        "  print(col)\n",
        "  print(append_list)"
      ],
      "execution_count": 0,
      "outputs": [
        {
          "output_type": "stream",
          "text": [
            "District_Name\n",
            "[]\n",
            "Crop_Year\n",
            "[]\n",
            "Crop\n",
            "[]\n",
            "Area\n",
            "[9, 21, 32, 33, 34, 39, 45, 84, 136, 144, 147, 149, 185, 213, 244, 283, 299, 340, 356, 359, 402, 407, 408, 435, 439, 453, 457, 458, 462, 470, 477, 480, 489, 490, 491, 493, 500, 521, 525, 528, 539, 555, 556, 560, 570, 598, 609, 610, 611, 619, 657, 666, 683, 685, 686, 929, 940, 946, 952, 966, 972, 974, 976, 977, 983, 995, 1006, 1011, 1028, 1029, 1034, 1035, 1131, 1141, 1146, 1147, 1151, 1152, 1154, 1158, 1161, 1166, 1191, 1223, 1224, 1253, 1254, 1459, 1470, 1472, 1476, 1485, 1489, 1497, 1500, 1502, 1507, 1510, 1512, 1517, 1521, 1528, 1533, 1537, 1542, 1547, 1551, 1558, 1562, 1564, 1568, 1571, 1614, 1617, 1678, 1685, 1686, 1698, 1700, 1707, 1712, 1713, 1739, 1771, 1804, 1860, 1864, 1865, 1873, 1875, 1879, 1891, 1919, 1931, 1935, 1936, 1940, 1943, 1945, 1949, 1989, 2024, 2031, 2037, 2046, 2052, 2059, 2061, 2064, 2070, 2080, 2084, 2086, 2093, 2096, 2106, 2115, 2121, 2128, 2131, 2134, 2140, 2141, 2150, 2163, 2168, 2199, 2201, 2207, 2217, 2263, 2270, 2285, 2286, 2291, 2292, 2295, 2302, 2310, 2313, 2338, 2343, 2347, 2371, 2376, 2379, 2403, 2410, 2615, 2626, 2634, 2641, 2648, 2650, 2664, 2668, 2680, 2683, 2685, 2689, 2695, 2701, 2708, 2716, 2718, 2736, 2743, 2750, 2752, 2777, 2797, 2835, 2848, 2860, 2870, 2973, 2987, 3033, 3260, 3303, 3330, 3360, 3366, 3414, 3423, 3429, 3438, 3444, 3460, 3482, 3504, 3519, 3553, 3776, 3784, 3785, 3786, 3794, 3811, 3812, 3820, 3825, 3840, 3849, 3858, 3865, 3867, 3875, 3905, 3916, 3959, 3973, 4098, 4103, 4105, 4110, 4130, 4134, 4141, 4144, 4162, 4166, 4168, 4173, 4176, 4198, 4205, 4246, 4252, 4262, 4306, 4308, 4317, 4325, 4334, 4339, 4525, 4601, 4602, 4608, 4611, 4619, 4625, 4628, 4629, 4635, 4636, 4638, 4657, 4658, 4664, 4665, 4667, 4675, 4682, 4686, 4687, 4693, 4696, 4698, 4704, 4710, 4738, 4749, 4756, 4794, 4813, 4815, 4821, 4826, 5032, 5034, 5047, 5055, 5092, 5121, 5134, 5142, 5152, 5154, 5439, 5447, 5451, 5471, 5477, 5481, 5488, 5501, 5507, 5511, 5531, 5537, 5585, 5663, 5668, 5671, 5672, 5757, 5896, 5924, 5925, 5939, 5941, 5942, 5944, 5947, 5951, 5957, 5966, 5968, 5971, 5974, 5981, 5985, 5996, 6002, 6024, 6029, 6030, 6125, 6150, 6392, 6402, 6415, 6419, 6429, 6435, 6453, 6459, 6476, 6482, 6578, 6579, 6581, 6582, 6627, 6682, 6749, 6772, 6786, 6790, 6792, 6796, 6797, 6808, 6809, 6813, 6832, 6833, 6836, 6838, 6843, 6855, 6859, 6861, 6866, 6941, 6944, 6955, 6961, 6962, 6964, 6965, 6978, 7002, 7003, 7036, 7039, 7068, 7071, 7111, 7170, 7190, 7194, 7235, 7241, 7268, 7285, 7287, 7299, 7300, 7303, 7306, 7308, 7315, 7329, 7331, 7332, 7335, 7337, 7339, 7340, 7347, 7361, 7364, 7371, 7374, 7376, 7385, 7386, 7394, 7395, 7397, 7403, 7443, 7448, 7458, 7503, 7504, 7513, 7530, 7725, 7751, 7768, 7799, 7818, 7840, 7893, 7951, 8217, 8235, 8242, 8262, 8305, 8350, 8361, 8384, 8454, 8502, 8503, 8535, 8552, 8613, 8637, 8638, 8659, 8660, 8675, 8677, 8681, 8683, 8685, 8686, 8696, 8698, 8716, 8717, 8747, 8774, 8885, 8934, 8963, 8977, 8978, 8981, 8990, 9005, 9006, 9009, 9016, 9018, 9033, 9034, 9037, 9045, 9063, 9067, 9118, 9121, 9122, 9129, 9175, 9178, 9195, 9207, 9415, 9422, 9427, 9428, 9435, 9441, 9443, 9448, 9538, 9595, 9599, 9785, 9798, 9819, 9834, 9889, 9895, 9898, 9910, 9934, 9962, 9963, 9992, 10038, 10040, 10043, 10047, 10091, 10093, 10096, 10145, 10174, 10183, 10191, 10193, 10202, 10206, 10210, 10219, 10221, 10232, 10240, 10241, 10249, 10251, 10254, 10261, 10269, 10270, 10278, 10280, 10290, 10322, 10329, 10336, 10378, 10398, 10400, 10401, 10404, 10405, 10407, 10408, 10477, 10506, 10508, 10553, 10558, 10609, 10611, 10616, 10661, 10693, 10713, 10716, 10724, 10744, 10747, 10755, 10758, 10777, 10779, 10786, 10789, 10808, 10809, 10816, 10859, 10935, 10945, 10946, 10948, 10949, 10960, 10962, 11009, 11077, 11080, 11086, 11117, 11144, 11338, 11351, 11356, 11361, 11362, 11363, 11367, 11369, 11380, 11381, 11390, 11392, 11396, 11398, 11410, 11411, 11419, 11420, 11426, 11429, 11438, 11448, 11455, 11456, 11492, 11500, 11503, 11551, 11557, 11569, 11574, 11578, 11591, 11640, 11712, 11717, 11769, 11850, 11856, 11859, 11876, 11882, 11885, 11895, 11903, 11909, 11914, 11930, 11936, 11946, 11948, 11990, 12045, 12050, 12053, 12059, 12062, 12086, 12338, 12349, 12356, 12358, 12364, 12369, 12376, 12380, 12382, 12389, 12397, 12402, 12409, 12412, 12428, 12433, 12440, 12444, 12460, 12498, 12501, 12503, 12554, 12565, 12571, 12573, 12578, 12608, 12785, 12855, 12858, 12860, 12877, 12888, 12894, 12896, 12911, 12916, 12923, 12942, 12947, 12996, 13041, 13048, 13059, 13060, 13070, 13078, 13081, 13155, 13332, 13348, 13349, 13351, 13358, 13369, 13376, 13379, 13386, 13387, 13389, 13398, 13405, 13406, 13408, 13410, 13416, 13418, 13426, 13433, 13434, 13446, 13484, 13489, 13539, 13540, 13542]\n",
            "Production\n",
            "[]\n",
            "season_lable_coding\n",
            "[]\n",
            "Kharif\n",
            "[]\n",
            "Whole_Year\n",
            "[]\n",
            "Rabi\n",
            "[]\n"
          ],
          "name": "stdout"
        }
      ]
    },
    {
      "cell_type": "code",
      "metadata": {
        "id": "hYvD-TbTPIfY",
        "colab_type": "code",
        "outputId": "3912688b-2377-4d69-fc4a-470208c1e21e",
        "colab": {
          "base_uri": "https://localhost:8080/",
          "height": 35
        }
      },
      "source": [
        "b = data['Crop'].value_counts()\n",
        "b = pd.DataFrame(b)\n",
        "b.columns = ['value']\n",
        "#a['value']['ARIYALUR']\n",
        "len(b)\n"
      ],
      "execution_count": 0,
      "outputs": [
        {
          "output_type": "execute_result",
          "data": {
            "text/plain": [
              "87"
            ]
          },
          "metadata": {
            "tags": []
          },
          "execution_count": 28
        }
      ]
    },
    {
      "cell_type": "code",
      "metadata": {
        "id": "tZTzaKBuPO1o",
        "colab_type": "code",
        "outputId": "dc7597f3-1be2-45f6-8f44-92356be823fa",
        "colab": {
          "base_uri": "https://localhost:8080/",
          "height": 819
        }
      },
      "source": [
        "for i in range(len(data)):\n",
        "  if b['value'][data['Crop'][i]]<600 and b['value'][data['Crop'][i]]>500:\n",
        "    data['Crop'][i] = 1\n",
        "  elif b['value'][data['Crop'][i]]<=500 and b['value'][data['Crop'][i]]>450:\n",
        "    data['Crop'][i] = 2\n",
        "  elif b['value'][data['Crop'][i]]<=450 and b['value'][data['Crop'][i]]>400:\n",
        "    data['Crop'][i] = 3\n",
        "  elif b['value'][data['Crop'][i]]<=400 and b['value'][data['Crop'][i]]>350:\n",
        "    data['Crop'][i] = 4\n",
        "  elif b['value'][data['Crop'][i]]<=350 and b['value'][data['Crop'][i]]>250:\n",
        "    data['Crop'][i] = 5\n",
        "  elif b['value'][data['Crop'][i]]<=250 and b['value'][data['Crop'][i]]>150:\n",
        "    data['Crop'][i] = 6\n",
        "  elif b['value'][data['Crop'][i]]<=150 and b['value'][data['Crop'][i]]>100:\n",
        "    data['Crop'][i] = 7\n",
        "  elif b['value'][data['Crop'][i]]<=100 and b['value'][data['Crop'][i]]>50:\n",
        "    data['Crop'][i] = 8\n",
        "  else:\n",
        "    data['Crop'][i] = 9\n",
        " "
      ],
      "execution_count": 0,
      "outputs": [
        {
          "output_type": "stream",
          "text": [
            "/usr/local/lib/python3.6/dist-packages/ipykernel_launcher.py:5: SettingWithCopyWarning: \n",
            "A value is trying to be set on a copy of a slice from a DataFrame\n",
            "\n",
            "See the caveats in the documentation: http://pandas.pydata.org/pandas-docs/stable/indexing.html#indexing-view-versus-copy\n",
            "  \"\"\"\n",
            "/usr/local/lib/python3.6/dist-packages/ipykernel_launcher.py:7: SettingWithCopyWarning: \n",
            "A value is trying to be set on a copy of a slice from a DataFrame\n",
            "\n",
            "See the caveats in the documentation: http://pandas.pydata.org/pandas-docs/stable/indexing.html#indexing-view-versus-copy\n",
            "  import sys\n",
            "/usr/local/lib/python3.6/dist-packages/ipykernel_launcher.py:9: SettingWithCopyWarning: \n",
            "A value is trying to be set on a copy of a slice from a DataFrame\n",
            "\n",
            "See the caveats in the documentation: http://pandas.pydata.org/pandas-docs/stable/indexing.html#indexing-view-versus-copy\n",
            "  if __name__ == '__main__':\n",
            "/usr/local/lib/python3.6/dist-packages/ipykernel_launcher.py:11: SettingWithCopyWarning: \n",
            "A value is trying to be set on a copy of a slice from a DataFrame\n",
            "\n",
            "See the caveats in the documentation: http://pandas.pydata.org/pandas-docs/stable/indexing.html#indexing-view-versus-copy\n",
            "  # This is added back by InteractiveShellApp.init_path()\n",
            "/usr/local/lib/python3.6/dist-packages/ipykernel_launcher.py:3: SettingWithCopyWarning: \n",
            "A value is trying to be set on a copy of a slice from a DataFrame\n",
            "\n",
            "See the caveats in the documentation: http://pandas.pydata.org/pandas-docs/stable/indexing.html#indexing-view-versus-copy\n",
            "  This is separate from the ipykernel package so we can avoid doing imports until\n",
            "/usr/local/lib/python3.6/dist-packages/ipykernel_launcher.py:15: SettingWithCopyWarning: \n",
            "A value is trying to be set on a copy of a slice from a DataFrame\n",
            "\n",
            "See the caveats in the documentation: http://pandas.pydata.org/pandas-docs/stable/indexing.html#indexing-view-versus-copy\n",
            "  from ipykernel import kernelapp as app\n",
            "/usr/local/lib/python3.6/dist-packages/ipykernel_launcher.py:17: SettingWithCopyWarning: \n",
            "A value is trying to be set on a copy of a slice from a DataFrame\n",
            "\n",
            "See the caveats in the documentation: http://pandas.pydata.org/pandas-docs/stable/indexing.html#indexing-view-versus-copy\n",
            "/usr/local/lib/python3.6/dist-packages/ipykernel_launcher.py:19: SettingWithCopyWarning: \n",
            "A value is trying to be set on a copy of a slice from a DataFrame\n",
            "\n",
            "See the caveats in the documentation: http://pandas.pydata.org/pandas-docs/stable/indexing.html#indexing-view-versus-copy\n",
            "/usr/local/lib/python3.6/dist-packages/ipykernel_launcher.py:13: SettingWithCopyWarning: \n",
            "A value is trying to be set on a copy of a slice from a DataFrame\n",
            "\n",
            "See the caveats in the documentation: http://pandas.pydata.org/pandas-docs/stable/indexing.html#indexing-view-versus-copy\n",
            "  del sys.path[0]\n"
          ],
          "name": "stderr"
        }
      ]
    },
    {
      "cell_type": "code",
      "metadata": {
        "id": "wMmJfAtFBQ75",
        "colab_type": "code",
        "colab": {}
      },
      "source": [
        "Y = pd.DataFrame(data['Production'])\n",
        "X = data.drop('Production',axis=1)"
      ],
      "execution_count": 0,
      "outputs": []
    },
    {
      "cell_type": "code",
      "metadata": {
        "id": "T12XwsyHBuqa",
        "colab_type": "code",
        "outputId": "7ee0af78-1305-416b-b370-d1180e4b7158",
        "colab": {
          "base_uri": "https://localhost:8080/",
          "height": 126
        }
      },
      "source": [
        "Y.info()"
      ],
      "execution_count": 0,
      "outputs": [
        {
          "output_type": "stream",
          "text": [
            "<class 'pandas.core.frame.DataFrame'>\n",
            "Int64Index: 10263 entries, 0 to 13546\n",
            "Data columns (total 1 columns):\n",
            "Production    10263 non-null float64\n",
            "dtypes: float64(1)\n",
            "memory usage: 480.4 KB\n"
          ],
          "name": "stdout"
        }
      ]
    },
    {
      "cell_type": "code",
      "metadata": {
        "id": "DWg5BbVsBPeK",
        "colab_type": "code",
        "colab": {}
      },
      "source": [
        "from sklearn.model_selection import train_test_split\n",
        "X_train, X_test, Y_train, Y_test = train_test_split(X, Y, test_size=0.22, random_state=42)"
      ],
      "execution_count": 0,
      "outputs": []
    },
    {
      "cell_type": "code",
      "metadata": {
        "id": "0jKIfstbshsd",
        "colab_type": "code",
        "outputId": "141479ac-40b6-47a9-b2d5-645dcc8cf9cf",
        "colab": {
          "base_uri": "https://localhost:8080/",
          "height": 35
        }
      },
      "source": [
        "clc=RandomForestRegressor(max_depth=5, n_estimators=100, random_state=42)\n",
        "clc.fit(X_train,Y_train.values.ravel())\n",
        "clc.score(X_test,Y_test.values.ravel())\n",
        " "
      ],
      "execution_count": 0,
      "outputs": [
        {
          "output_type": "execute_result",
          "data": {
            "text/plain": [
              "0.9675919876359727"
            ]
          },
          "metadata": {
            "tags": []
          },
          "execution_count": 67
        }
      ]
    },
    {
      "cell_type": "code",
      "metadata": {
        "id": "A9k71RPBvLvv",
        "colab_type": "code",
        "outputId": "debe7379-e583-49f4-d2f4-279b9cf7ce62",
        "colab": {
          "base_uri": "https://localhost:8080/",
          "height": 35
        }
      },
      "source": [
        "from sklearn.linear_model import LinearRegression\n",
        "reg = LinearRegression(fit_intercept=True, normalize=True).fit(X_train, Y_train)\n",
        "reg.score(X_test, Y_test)"
      ],
      "execution_count": 0,
      "outputs": [
        {
          "output_type": "execute_result",
          "data": {
            "text/plain": [
              "0.9186649782902621"
            ]
          },
          "metadata": {
            "tags": []
          },
          "execution_count": 68
        }
      ]
    },
    {
      "cell_type": "code",
      "metadata": {
        "id": "fi-ZJpOx_H3r",
        "colab_type": "code",
        "outputId": "ce9cbfd1-f28b-4066-b7a2-19d600fa9108",
        "colab": {
          "base_uri": "https://localhost:8080/",
          "height": 35
        }
      },
      "source": [
        "from sklearn.neighbors import KNeighborsRegressor\n",
        "neigh = KNeighborsRegressor(n_neighbors=2)\n",
        "neigh.fit(X_train, Y_train)\n",
        "neigh.score(X_test,Y_test)"
      ],
      "execution_count": 0,
      "outputs": [
        {
          "output_type": "execute_result",
          "data": {
            "text/plain": [
              "0.955459830447465"
            ]
          },
          "metadata": {
            "tags": []
          },
          "execution_count": 69
        }
      ]
    },
    {
      "cell_type": "code",
      "metadata": {
        "id": "qKDSnwpuDGbO",
        "colab_type": "code",
        "colab": {}
      },
      "source": [
        ""
      ],
      "execution_count": 0,
      "outputs": []
    }
  ]
}